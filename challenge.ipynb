{
 "cells": [
  {
   "cell_type": "markdown",
   "id": "04fcf160-2e83-4554-bae0-c95c27f907e0",
   "metadata": {},
   "source": [
    "# Challenge"
   ]
  },
  {
   "cell_type": "code",
   "execution_count": 1,
   "id": "7745c1ba-93c5-4e26-b279-dd80eaba9df8",
   "metadata": {},
   "outputs": [],
   "source": [
    "import pandas as pd\n",
    "\n",
    "from IPython.display import IFrame, display"
   ]
  },
  {
   "cell_type": "markdown",
   "id": "aef09b4d-d3e5-4199-933a-74f14da167b0",
   "metadata": {},
   "source": [
    "## Question 1"
   ]
  },
  {
   "cell_type": "code",
   "execution_count": 2,
   "id": "04782f71-7025-4c5b-94d5-601491e53df6",
   "metadata": {},
   "outputs": [
    {
     "data": {
      "text/html": [
       "\n",
       "        <iframe\n",
       "            width=\"700\"\n",
       "            height=\"1000\"\n",
       "            src=\"heater_model_documentation.pdf\"\n",
       "            frameborder=\"0\"\n",
       "            allowfullscreen\n",
       "            \n",
       "        ></iframe>\n",
       "        "
      ],
      "text/plain": [
       "<IPython.lib.display.IFrame at 0x117654cd0>"
      ]
     },
     "execution_count": 2,
     "metadata": {},
     "output_type": "execute_result"
    }
   ],
   "source": [
    "formulation_path = \"heater_model_documentation.pdf\"\n",
    "IFrame(formulation_path, width=700, height=1000)"
   ]
  },
  {
   "cell_type": "markdown",
   "id": "3a4d7fa9-fe35-4038-9933-dd3e568c3efa",
   "metadata": {},
   "source": [
    "## Question 2"
   ]
  },
  {
   "cell_type": "code",
   "execution_count": 3,
   "id": "894f4ffd-7c75-44e1-8c34-d6981796dce6",
   "metadata": {},
   "outputs": [
    {
     "name": "stdout",
     "output_type": "stream",
     "text": [
      "Simulation of heating a building...\n",
      "Welcome to the CBC MILP Solver \n",
      "Version: 2.10.8 \n",
      "Build Date: May  7 2022 \n",
      "\n",
      "command line - /opt/homebrew/bin/cbc -printingOptions all -import /var/folders/z1/q363rd3d7szg_187_9997w040000gn/T/tmpz0ohijle.pyomo.lp -stat=1 -solve -solu /var/folders/z1/q363rd3d7szg_187_9997w040000gn/T/tmpz0ohijle.pyomo.soln (default strategy 1)\n",
      "Option for printingOptions changed from normal to all\n",
      "Presolve 0 (-385) rows, 0 (-769) columns and 0 (-768) elements\n",
      "Statistics for presolved model\n",
      "\n",
      "\n",
      "Problem has 0 rows, 0 columns (0 with objective) and 0 elements\n",
      "Column breakdown:\n",
      "0 of type 0.0->inf, 0 of type 0.0->up, 0 of type lo->inf, \n",
      "0 of type lo->up, 0 of type free, 0 of type fixed, \n",
      "0 of type -inf->0.0, 0 of type -inf->up, 0 of type 0.0->1.0 \n",
      "Row breakdown:\n",
      "0 of type E 0.0, 0 of type E 1.0, 0 of type E -1.0, \n",
      "0 of type E other, 0 of type G 0.0, 0 of type G 1.0, \n",
      "0 of type G other, 0 of type L 0.0, 0 of type L 1.0, \n",
      "0 of type L other, 0 of type Range 0.0->1.0, 0 of type Range other, \n",
      "0 of type Free \n",
      "Presolve 0 (-385) rows, 0 (-769) columns and 0 (-768) elements\n",
      "Empty problem - 0 rows, 0 columns and 0 elements\n",
      "Optimal - objective value 24.177072\n",
      "After Postsolve, objective 24.177072, infeasibilities - dual 0 (0), primal 0 (0)\n",
      "Optimal objective 24.1770718 - 0 iterations time 0.002, Presolve 0.00\n",
      "Total time (CPU seconds):       0.00   (Wallclock seconds):       0.00\n",
      "\n",
      "Simulation of heating a building...\n",
      "Welcome to the CBC MILP Solver \n",
      "Version: 2.10.8 \n",
      "Build Date: May  7 2022 \n",
      "\n",
      "command line - /opt/homebrew/bin/cbc -printingOptions all -import /var/folders/z1/q363rd3d7szg_187_9997w040000gn/T/tmpw_sxr7le.pyomo.lp -stat=1 -solve -solu /var/folders/z1/q363rd3d7szg_187_9997w040000gn/T/tmpw_sxr7le.pyomo.soln (default strategy 1)\n",
      "Option for printingOptions changed from normal to all\n",
      "Presolve 0 (-385) rows, 0 (-769) columns and 0 (-768) elements\n",
      "Statistics for presolved model\n",
      "\n",
      "\n",
      "Problem has 0 rows, 0 columns (0 with objective) and 0 elements\n",
      "Column breakdown:\n",
      "0 of type 0.0->inf, 0 of type 0.0->up, 0 of type lo->inf, \n",
      "0 of type lo->up, 0 of type free, 0 of type fixed, \n",
      "0 of type -inf->0.0, 0 of type -inf->up, 0 of type 0.0->1.0 \n",
      "Row breakdown:\n",
      "0 of type E 0.0, 0 of type E 1.0, 0 of type E -1.0, \n",
      "0 of type E other, 0 of type G 0.0, 0 of type G 1.0, \n",
      "0 of type G other, 0 of type L 0.0, 0 of type L 1.0, \n",
      "0 of type L other, 0 of type Range 0.0->1.0, 0 of type Range other, \n",
      "0 of type Free \n",
      "Presolve 0 (-385) rows, 0 (-769) columns and 0 (-768) elements\n",
      "Empty problem - 0 rows, 0 columns and 0 elements\n",
      "Optimal - objective value 36.249072\n",
      "After Postsolve, objective 36.249072, infeasibilities - dual 0 (0), primal 0 (0)\n",
      "Optimal objective 36.2490718 - 0 iterations time 0.002, Presolve 0.00\n",
      "Total time (CPU seconds):       0.00   (Wallclock seconds):       0.00\n",
      "\n"
     ]
    }
   ],
   "source": [
    "%run -m simulate -i instances/example_bounds.toml -o results/example_bounds -s cbc -d -m lp\n",
    "%run -m simulate -i instances/example_no_bounds.toml -o results/example_no_bounds -s cbc -d -m lp"
   ]
  },
  {
   "cell_type": "code",
   "execution_count": 4,
   "id": "46b8f538-96cf-4864-ba85-d7355bd8bede",
   "metadata": {},
   "outputs": [
    {
     "data": {
      "text/plain": [
       "12.07"
      ]
     },
     "execution_count": 4,
     "metadata": {},
     "output_type": "execute_result"
    }
   ],
   "source": [
    "costs_bounds = pd.read_csv(\"results/example_bounds/objective_function.csv\", index_col=0).squeeze()\n",
    "costs_no_bounds = pd.read_csv(\"results/example_no_bounds/objective_function.csv\", index_col=0).squeeze()\n",
    "delta_costs = costs_no_bounds - costs_bounds\n",
    "round(delta_costs, 2)"
   ]
  },
  {
   "cell_type": "code",
   "execution_count": 15,
   "id": "f25a4575-7cc5-446d-a519-255f64cd2182",
   "metadata": {},
   "outputs": [
    {
     "data": {
      "text/html": [
       "\n",
       "        <iframe\n",
       "            width=\"700\"\n",
       "            height=\"400\"\n",
       "            src=\"results/example_bounds/cost.pdf\"\n",
       "            frameborder=\"0\"\n",
       "            allowfullscreen\n",
       "            \n",
       "        ></iframe>\n",
       "        "
      ],
      "text/plain": [
       "<IPython.lib.display.IFrame at 0x12e817760>"
      ]
     },
     "execution_count": 15,
     "metadata": {},
     "output_type": "execute_result"
    }
   ],
   "source": [
    "filepath_bounds = \"results/example_bounds/cost.pdf\"\n",
    "IFrame(filepath_bounds, width=700, height=400)"
   ]
  },
  {
   "cell_type": "code",
   "execution_count": 16,
   "id": "e666bce1-6a47-485e-901e-07cb1cf8e024",
   "metadata": {},
   "outputs": [
    {
     "data": {
      "text/html": [
       "\n",
       "        <iframe\n",
       "            width=\"700\"\n",
       "            height=\"400\"\n",
       "            src=\"results/example_no_bounds/cost.pdf\"\n",
       "            frameborder=\"0\"\n",
       "            allowfullscreen\n",
       "            \n",
       "        ></iframe>\n",
       "        "
      ],
      "text/plain": [
       "<IPython.lib.display.IFrame at 0x12f19b160>"
      ]
     },
     "execution_count": 16,
     "metadata": {},
     "output_type": "execute_result"
    }
   ],
   "source": [
    "filepath_no_bounds = \"results/example_no_bounds/cost.pdf\"\n",
    "IFrame(filepath_no_bounds, width=700, height=400)"
   ]
  },
  {
   "cell_type": "markdown",
   "id": "e7a68b1e-79a5-4881-bc52-fb214ae1e6b4",
   "metadata": {},
   "source": [
    "### Delta cost\n",
    "The cost difference between adding bounds (21-26 degrees Celsius) and a fixed target temperature of 24 degrees Celsius is £12.07."
   ]
  },
  {
   "cell_type": "markdown",
   "id": "538b3cf9-b5dc-4281-9678-650c22276a96",
   "metadata": {},
   "source": [
    "## Question 3"
   ]
  },
  {
   "cell_type": "markdown",
   "id": "874a9c47-7e46-4520-b747-25288df74775",
   "metadata": {},
   "source": [
    "To account for non-deterministic ambient temperature and costs, one can resort to a stochastic optimisation formulation. Such a formulation can be cast as a fully deterministic linear program where different trajectories of temperatures and electricity costs (pre-coumputed) can be associated to the probability of each trajectory happening.\n",
    "\n",
    "This formulation can potentially make the optimisation more computationally expensive as the number of decision variables is increased with each trajectory, increasing the complexity. On the other hand, since the optimisation takes into account several possible costs and temperatures, the results tend to be more robust (this approach is sometimes known as robust optimisation)."
   ]
  },
  {
   "cell_type": "code",
   "execution_count": null,
   "id": "368e80ba-220c-4bcd-a241-b2206ee3c5ee",
   "metadata": {},
   "outputs": [],
   "source": []
  }
 ],
 "metadata": {
  "kernelspec": {
   "display_name": "Python 3 (ipykernel)",
   "language": "python",
   "name": "python3"
  },
  "language_info": {
   "codemirror_mode": {
    "name": "ipython",
    "version": 3
   },
   "file_extension": ".py",
   "mimetype": "text/x-python",
   "name": "python",
   "nbconvert_exporter": "python",
   "pygments_lexer": "ipython3",
   "version": "3.10.6"
  }
 },
 "nbformat": 4,
 "nbformat_minor": 5
}
